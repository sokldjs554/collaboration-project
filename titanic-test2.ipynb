{
 "cells": [
  {
   "cell_type": "code",
   "execution_count": 1,
   "id": "4974004f",
   "metadata": {
    "_cell_guid": "b1076dfc-b9ad-4769-8c92-a6c4dae69d19",
    "_uuid": "8f2839f25d086af736a60e9eeb907d3b93b6e0e5",
    "execution": {
     "iopub.execute_input": "2023-01-31T05:15:46.628932Z",
     "iopub.status.busy": "2023-01-31T05:15:46.627988Z",
     "iopub.status.idle": "2023-01-31T05:15:46.643232Z",
     "shell.execute_reply": "2023-01-31T05:15:46.642118Z"
    },
    "papermill": {
     "duration": 0.026831,
     "end_time": "2023-01-31T05:15:46.645728",
     "exception": false,
     "start_time": "2023-01-31T05:15:46.618897",
     "status": "completed"
    },
    "tags": []
   },
   "outputs": [
    {
     "name": "stdout",
     "output_type": "stream",
     "text": [
      "/kaggle/input/titanic/train.csv\n",
      "/kaggle/input/titanic/test.csv\n",
      "/kaggle/input/titanic/gender_submission.csv\n"
     ]
    }
   ],
   "source": [
    "# This Python 3 environment comes with many helpful analytics libraries installed\n",
    "# It is defined by the kaggle/python Docker image: https://github.com/kaggle/docker-python\n",
    "# For example, here's several helpful packages to load\n",
    "\n",
    "import numpy as np # linear algebra\n",
    "import pandas as pd # data processing, CSV file I/O (e.g. pd.read_csv)\n",
    "\n",
    "# Input data files are available in the read-only \"../input/\" directory\n",
    "# For example, running this (by clicking run or pressing Shift+Enter) will list all files under the input directory\n",
    "\n",
    "import os\n",
    "for dirname, _, filenames in os.walk('/kaggle/input'):\n",
    "    for filename in filenames:\n",
    "        print(os.path.join(dirname, filename))\n",
    "\n",
    "# You can write up to 20GB to the current directory (/kaggle/working/) that gets preserved as output when you create a version using \"Save & Run All\" \n",
    "# You can also write temporary files to /kaggle/temp/, but they won't be saved outside of the current session"
   ]
  },
  {
   "cell_type": "code",
   "execution_count": 2,
   "id": "49ace006",
   "metadata": {
    "execution": {
     "iopub.execute_input": "2023-01-31T05:15:46.659454Z",
     "iopub.status.busy": "2023-01-31T05:15:46.659030Z",
     "iopub.status.idle": "2023-01-31T05:15:46.706654Z",
     "shell.execute_reply": "2023-01-31T05:15:46.705339Z"
    },
    "papermill": {
     "duration": 0.058082,
     "end_time": "2023-01-31T05:15:46.709761",
     "exception": false,
     "start_time": "2023-01-31T05:15:46.651679",
     "status": "completed"
    },
    "tags": []
   },
   "outputs": [
    {
     "name": "stdout",
     "output_type": "stream",
     "text": [
      "   PassengerId  Survived  Pclass  \\\n",
      "0            1         0       3   \n",
      "1            2         1       1   \n",
      "2            3         1       3   \n",
      "3            4         1       1   \n",
      "4            5         0       3   \n",
      "\n",
      "                                                Name     Sex   Age  SibSp  \\\n",
      "0                            Braund, Mr. Owen Harris    male  22.0      1   \n",
      "1  Cumings, Mrs. John Bradley (Florence Briggs Th...  female  38.0      1   \n",
      "2                             Heikkinen, Miss. Laina  female  26.0      0   \n",
      "3       Futrelle, Mrs. Jacques Heath (Lily May Peel)  female  35.0      1   \n",
      "4                           Allen, Mr. William Henry    male  35.0      0   \n",
      "\n",
      "   Parch            Ticket     Fare Cabin Embarked  \n",
      "0      0         A/5 21171   7.2500   NaN        S  \n",
      "1      0          PC 17599  71.2833   C85        C  \n",
      "2      0  STON/O2. 3101282   7.9250   NaN        S  \n",
      "3      0            113803  53.1000  C123        S  \n",
      "4      0            373450   8.0500   NaN        S  \n",
      "   PassengerId  Pclass                                          Name     Sex  \\\n",
      "0          892       3                              Kelly, Mr. James    male   \n",
      "1          893       3              Wilkes, Mrs. James (Ellen Needs)  female   \n",
      "2          894       2                     Myles, Mr. Thomas Francis    male   \n",
      "3          895       3                              Wirz, Mr. Albert    male   \n",
      "4          896       3  Hirvonen, Mrs. Alexander (Helga E Lindqvist)  female   \n",
      "\n",
      "    Age  SibSp  Parch   Ticket     Fare Cabin Embarked  \n",
      "0  34.5      0      0   330911   7.8292   NaN        Q  \n",
      "1  47.0      1      0   363272   7.0000   NaN        S  \n",
      "2  62.0      0      0   240276   9.6875   NaN        Q  \n",
      "3  27.0      0      0   315154   8.6625   NaN        S  \n",
      "4  22.0      1      1  3101298  12.2875   NaN        S  \n",
      "   PassengerId  Survived\n",
      "0          892         0\n",
      "1          893         1\n",
      "2          894         0\n",
      "3          895         0\n",
      "4          896         1\n"
     ]
    }
   ],
   "source": [
    "import pandas as pd\n",
    "\n",
    "train = pd.read_csv('/kaggle/input/titanic/train.csv')\n",
    "test = pd.read_csv('/kaggle/input/titanic/test.csv')\n",
    "submission = pd.read_csv('/kaggle/input/titanic/gender_submission.csv')\n",
    "\n",
    "print(train.head())\n",
    "print(test.head())\n",
    "print(submission.head())"
   ]
  },
  {
   "cell_type": "code",
   "execution_count": 3,
   "id": "24137920",
   "metadata": {
    "execution": {
     "iopub.execute_input": "2023-01-31T05:15:46.724595Z",
     "iopub.status.busy": "2023-01-31T05:15:46.724203Z",
     "iopub.status.idle": "2023-01-31T05:15:46.748309Z",
     "shell.execute_reply": "2023-01-31T05:15:46.746947Z"
    },
    "papermill": {
     "duration": 0.034138,
     "end_time": "2023-01-31T05:15:46.750765",
     "exception": false,
     "start_time": "2023-01-31T05:15:46.716627",
     "status": "completed"
    },
    "tags": []
   },
   "outputs": [
    {
     "name": "stdout",
     "output_type": "stream",
     "text": [
      "<class 'pandas.core.frame.DataFrame'>\n",
      "RangeIndex: 891 entries, 0 to 890\n",
      "Data columns (total 12 columns):\n",
      " #   Column       Non-Null Count  Dtype  \n",
      "---  ------       --------------  -----  \n",
      " 0   PassengerId  891 non-null    int64  \n",
      " 1   Survived     891 non-null    int64  \n",
      " 2   Pclass       891 non-null    int64  \n",
      " 3   Name         891 non-null    object \n",
      " 4   Sex          891 non-null    object \n",
      " 5   Age          714 non-null    float64\n",
      " 6   SibSp        891 non-null    int64  \n",
      " 7   Parch        891 non-null    int64  \n",
      " 8   Ticket       891 non-null    object \n",
      " 9   Fare         891 non-null    float64\n",
      " 10  Cabin        204 non-null    object \n",
      " 11  Embarked     889 non-null    object \n",
      "dtypes: float64(2), int64(5), object(5)\n",
      "memory usage: 83.7+ KB\n"
     ]
    }
   ],
   "source": [
    "train.info()"
   ]
  },
  {
   "cell_type": "code",
   "execution_count": 4,
   "id": "2958cbb2",
   "metadata": {
    "execution": {
     "iopub.execute_input": "2023-01-31T05:15:46.764914Z",
     "iopub.status.busy": "2023-01-31T05:15:46.764072Z",
     "iopub.status.idle": "2023-01-31T05:15:48.063696Z",
     "shell.execute_reply": "2023-01-31T05:15:48.062494Z"
    },
    "papermill": {
     "duration": 1.309289,
     "end_time": "2023-01-31T05:15:48.066078",
     "exception": false,
     "start_time": "2023-01-31T05:15:46.756789",
     "status": "completed"
    },
    "tags": []
   },
   "outputs": [
    {
     "data": {
      "image/png": "[encoded data removed]",
      "text/plain": [
       "<Figure size 1080x720 with 1 Axes>"
      ]
     },
     "metadata": {
      "needs_background": "light"
     },
     "output_type": "display_data"
    }
   ],
   "source": [
    "import matplotlib.pyplot as plt\n",
    "import seaborn as sns\n",
    "import pandas as pd\n",
    "\n",
    "def bar_chart(feature):\n",
    "  survived = train.loc[train[\"Survived\"]==1,feature].value_counts()  \n",
    "  dead = train.loc[train[\"Survived\"]==0,feature].value_counts()\n",
    "  data = pd.DataFrame([survived,dead],index = [\"Survived\",\"Dead\"])\n",
    "  data.plot(kind=\"bar\",figsize=(15,10))\n",
    "  plt.show()\n",
    "\n",
    "\n",
    "bar_chart(\"Pclass\")"
   ]
  },
  {
   "cell_type": "code",
   "execution_count": 5,
   "id": "fdb9a8df",
   "metadata": {
    "execution": {
     "iopub.execute_input": "2023-01-31T05:15:48.081487Z",
     "iopub.status.busy": "2023-01-31T05:15:48.080547Z",
     "iopub.status.idle": "2023-01-31T05:15:48.479951Z",
     "shell.execute_reply": "2023-01-31T05:15:48.478886Z"
    },
    "papermill": {
     "duration": 0.409799,
     "end_time": "2023-01-31T05:15:48.482641",
     "exception": false,
     "start_time": "2023-01-31T05:15:48.072842",
     "status": "completed"
    },
    "tags": []
   },
   "outputs": [
    {
     "data": {
      "image/png": "[encoded data removed]",
      "text/plain": [
       "<Figure size 915.875x216 with 1 Axes>"
      ]
     },
     "metadata": {
      "needs_background": "light"
     },
     "output_type": "display_data"
    }
   ],
   "source": [
    "facet = sns.FacetGrid(train, hue = 'Survived', aspect = 4)\n",
    "facet.map(sns.kdeplot, 'Fare', shade = True)\n",
    "facet.set(xlim = (0, train['Fare'].max()))\n",
    "facet.add_legend()\n",
    "plt.xlim(0, 180)\n",
    "plt.show()"
   ]
  },
  {
   "cell_type": "code",
   "execution_count": 6,
   "id": "4d558f19",
   "metadata": {
    "execution": {
     "iopub.execute_input": "2023-01-31T05:15:48.498043Z",
     "iopub.status.busy": "2023-01-31T05:15:48.497288Z",
     "iopub.status.idle": "2023-01-31T05:15:48.724469Z",
     "shell.execute_reply": "2023-01-31T05:15:48.723372Z"
    },
    "papermill": {
     "duration": 0.237162,
     "end_time": "2023-01-31T05:15:48.726706",
     "exception": false,
     "start_time": "2023-01-31T05:15:48.489544",
     "status": "completed"
    },
    "tags": []
   },
   "outputs": [
    {
     "data": {
      "image/png": "[encoded data removed]",
      "text/plain": [
       "<Figure size 1080x720 with 1 Axes>"
      ]
     },
     "metadata": {
      "needs_background": "light"
     },
     "output_type": "display_data"
    }
   ],
   "source": [
    "bar_chart('Sex')"
   ]
  },
  {
   "cell_type": "code",
   "execution_count": 7,
   "id": "f5547a11",
   "metadata": {
    "execution": {
     "iopub.execute_input": "2023-01-31T05:15:48.742476Z",
     "iopub.status.busy": "2023-01-31T05:15:48.741640Z",
     "iopub.status.idle": "2023-01-31T05:15:49.136584Z",
     "shell.execute_reply": "2023-01-31T05:15:49.135713Z"
    },
    "papermill": {
     "duration": 0.405267,
     "end_time": "2023-01-31T05:15:49.138955",
     "exception": false,
     "start_time": "2023-01-31T05:15:48.733688",
     "status": "completed"
    },
    "tags": []
   },
   "outputs": [
    {
     "data": {
      "image/png": "[encoded data removed]",
      "text/plain": [
       "<Figure size 915.875x216 with 1 Axes>"
      ]
     },
     "metadata": {
      "needs_background": "light"
     },
     "output_type": "display_data"
    }
   ],
   "source": [
    "facet = sns.FacetGrid(train,hue = 'Survived', aspect = 4)\n",
    "facet.map(sns.kdeplot, 'Age', shade = True)\n",
    "facet.set(xlim = (0, train['Age'].max()))\n",
    "facet.add_legend()\n",
    "plt.xlim(0, 180)\n",
    "plt.show()"
   ]
  },
  {
   "cell_type": "code",
   "execution_count": 8,
   "id": "07f7133c",
   "metadata": {
    "execution": {
     "iopub.execute_input": "2023-01-31T05:15:49.157559Z",
     "iopub.status.busy": "2023-01-31T05:15:49.156835Z",
     "iopub.status.idle": "2023-01-31T05:15:49.452758Z",
     "shell.execute_reply": "2023-01-31T05:15:49.451472Z"
    },
    "papermill": {
     "duration": 0.309065,
     "end_time": "2023-01-31T05:15:49.455454",
     "exception": false,
     "start_time": "2023-01-31T05:15:49.146389",
     "status": "completed"
    },
    "tags": []
   },
   "outputs": [
    {
     "data": {
      "image/png": "[encoded data removed]",
      "text/plain": [
       "<Figure size 1080x720 with 1 Axes>"
      ]
     },
     "metadata": {
      "needs_background": "light"
     },
     "output_type": "display_data"
    }
   ],
   "source": [
    "train['Familysize'] = train['SibSp'] + train['Parch']\n",
    "\n",
    "bar_chart('Familysize')"
   ]
  },
  {
   "cell_type": "code",
   "execution_count": 9,
   "id": "81e50533",
   "metadata": {
    "execution": {
     "iopub.execute_input": "2023-01-31T05:15:49.472870Z",
     "iopub.status.busy": "2023-01-31T05:15:49.472094Z",
     "iopub.status.idle": "2023-01-31T05:15:49.703198Z",
     "shell.execute_reply": "2023-01-31T05:15:49.702003Z"
    },
    "papermill": {
     "duration": 0.24228,
     "end_time": "2023-01-31T05:15:49.705536",
     "exception": false,
     "start_time": "2023-01-31T05:15:49.463256",
     "status": "completed"
    },
    "tags": []
   },
   "outputs": [
    {
     "data": {
      "image/png": "[encoded data removed]",
      "text/plain": [
       "<Figure size 1080x720 with 1 Axes>"
      ]
     },
     "metadata": {
      "needs_background": "light"
     },
     "output_type": "display_data"
    }
   ],
   "source": [
    "bar_chart('Embarked')"
   ]
  },
  {
   "cell_type": "code",
   "execution_count": 10,
   "id": "7ebb1381",
   "metadata": {
    "execution": {
     "iopub.execute_input": "2023-01-31T05:15:49.723002Z",
     "iopub.status.busy": "2023-01-31T05:15:49.722527Z",
     "iopub.status.idle": "2023-01-31T05:15:49.729382Z",
     "shell.execute_reply": "2023-01-31T05:15:49.728267Z"
    },
    "papermill": {
     "duration": 0.018175,
     "end_time": "2023-01-31T05:15:49.731637",
     "exception": false,
     "start_time": "2023-01-31T05:15:49.713462",
     "status": "completed"
    },
    "tags": []
   },
   "outputs": [],
   "source": [
    "train['Age'].fillna(train['Age'].mean(axis = 0), inplace = True)"
   ]
  },
  {
   "cell_type": "code",
   "execution_count": 11,
   "id": "7ee18b16",
   "metadata": {
    "execution": {
     "iopub.execute_input": "2023-01-31T05:15:49.749278Z",
     "iopub.status.busy": "2023-01-31T05:15:49.748501Z",
     "iopub.status.idle": "2023-01-31T05:15:49.771338Z",
     "shell.execute_reply": "2023-01-31T05:15:49.770179Z"
    },
    "papermill": {
     "duration": 0.034362,
     "end_time": "2023-01-31T05:15:49.773816",
     "exception": false,
     "start_time": "2023-01-31T05:15:49.739454",
     "status": "completed"
    },
    "tags": []
   },
   "outputs": [
    {
     "data": {
      "text/html": [
       "<div>\n",
       "<style scoped>\n",
       "    .dataframe tbody tr th:only-of-type {\n",
       "        vertical-align: middle;\n",
       "    }\n",
       "\n",
       "    .dataframe tbody tr th {\n",
       "        vertical-align: top;\n",
       "    }\n",
       "\n",
       "    .dataframe thead th {\n",
       "        text-align: right;\n",
       "    }\n",
       "</style>\n",
       "<table border=\"1\" class=\"dataframe\">\n",
       "  <thead>\n",
       "    <tr style=\"text-align: right;\">\n",
       "      <th></th>\n",
       "      <th>PassengerId</th>\n",
       "      <th>Survived</th>\n",
       "      <th>Pclass</th>\n",
       "      <th>Name</th>\n",
       "      <th>Sex</th>\n",
       "      <th>Age</th>\n",
       "      <th>SibSp</th>\n",
       "      <th>Parch</th>\n",
       "      <th>Ticket</th>\n",
       "      <th>Fare</th>\n",
       "      <th>Cabin</th>\n",
       "      <th>Embarked</th>\n",
       "      <th>Familysize</th>\n",
       "      <th>AgeGroup</th>\n",
       "    </tr>\n",
       "  </thead>\n",
       "  <tbody>\n",
       "    <tr>\n",
       "      <th>0</th>\n",
       "      <td>1</td>\n",
       "      <td>0</td>\n",
       "      <td>3</td>\n",
       "      <td>Braund, Mr. Owen Harris</td>\n",
       "      <td>male</td>\n",
       "      <td>22.0</td>\n",
       "      <td>1</td>\n",
       "      <td>0</td>\n",
       "      <td>A/5 21171</td>\n",
       "      <td>7.2500</td>\n",
       "      <td>NaN</td>\n",
       "      <td>S</td>\n",
       "      <td>1</td>\n",
       "      <td>1</td>\n",
       "    </tr>\n",
       "    <tr>\n",
       "      <th>1</th>\n",
       "      <td>2</td>\n",
       "      <td>1</td>\n",
       "      <td>1</td>\n",
       "      <td>Cumings, Mrs. John Bradley (Florence Briggs Th...</td>\n",
       "      <td>female</td>\n",
       "      <td>38.0</td>\n",
       "      <td>1</td>\n",
       "      <td>0</td>\n",
       "      <td>PC 17599</td>\n",
       "      <td>71.2833</td>\n",
       "      <td>C85</td>\n",
       "      <td>C</td>\n",
       "      <td>1</td>\n",
       "      <td>3</td>\n",
       "    </tr>\n",
       "    <tr>\n",
       "      <th>2</th>\n",
       "      <td>3</td>\n",
       "      <td>1</td>\n",
       "      <td>3</td>\n",
       "      <td>Heikkinen, Miss. Laina</td>\n",
       "      <td>female</td>\n",
       "      <td>26.0</td>\n",
       "      <td>0</td>\n",
       "      <td>0</td>\n",
       "      <td>STON/O2. 3101282</td>\n",
       "      <td>7.9250</td>\n",
       "      <td>NaN</td>\n",
       "      <td>S</td>\n",
       "      <td>0</td>\n",
       "      <td>2</td>\n",
       "    </tr>\n",
       "    <tr>\n",
       "      <th>3</th>\n",
       "      <td>4</td>\n",
       "      <td>1</td>\n",
       "      <td>1</td>\n",
       "      <td>Futrelle, Mrs. Jacques Heath (Lily May Peel)</td>\n",
       "      <td>female</td>\n",
       "      <td>35.0</td>\n",
       "      <td>1</td>\n",
       "      <td>0</td>\n",
       "      <td>113803</td>\n",
       "      <td>53.1000</td>\n",
       "      <td>C123</td>\n",
       "      <td>S</td>\n",
       "      <td>1</td>\n",
       "      <td>2</td>\n",
       "    </tr>\n",
       "    <tr>\n",
       "      <th>4</th>\n",
       "      <td>5</td>\n",
       "      <td>0</td>\n",
       "      <td>3</td>\n",
       "      <td>Allen, Mr. William Henry</td>\n",
       "      <td>male</td>\n",
       "      <td>35.0</td>\n",
       "      <td>0</td>\n",
       "      <td>0</td>\n",
       "      <td>373450</td>\n",
       "      <td>8.0500</td>\n",
       "      <td>NaN</td>\n",
       "      <td>S</td>\n",
       "      <td>0</td>\n",
       "      <td>2</td>\n",
       "    </tr>\n",
       "  </tbody>\n",
       "</table>\n",
       "</div>"
      ],
      "text/plain": [
       "   PassengerId  Survived  Pclass  \\\n",
       "0            1         0       3   \n",
       "1            2         1       1   \n",
       "2            3         1       3   \n",
       "3            4         1       1   \n",
       "4            5         0       3   \n",
       "\n",
       "                                                Name     Sex   Age  SibSp  \\\n",
       "0                            Braund, Mr. Owen Harris    male  22.0      1   \n",
       "1  Cumings, Mrs. John Bradley (Florence Briggs Th...  female  38.0      1   \n",
       "2                             Heikkinen, Miss. Laina  female  26.0      0   \n",
       "3       Futrelle, Mrs. Jacques Heath (Lily May Peel)  female  35.0      1   \n",
       "4                           Allen, Mr. William Henry    male  35.0      0   \n",
       "\n",
       "   Parch            Ticket     Fare Cabin Embarked  Familysize AgeGroup  \n",
       "0      0         A/5 21171   7.2500   NaN        S           1        1  \n",
       "1      0          PC 17599  71.2833   C85        C           1        3  \n",
       "2      0  STON/O2. 3101282   7.9250   NaN        S           0        2  \n",
       "3      0            113803  53.1000  C123        S           1        2  \n",
       "4      0            373450   8.0500   NaN        S           0        2  "
      ]
     },
     "execution_count": 11,
     "metadata": {},
     "output_type": "execute_result"
    }
   ],
   "source": [
    "ranges = [0, 16, 26, 36, 62, 100]\n",
    "labels = [0, 1, 2, 3, 4]\n",
    "train[\"AgeGroup\"] = pd.cut(train['Age'], ranges, right = False, labels =labels)\n",
    "train.head()"
   ]
  },
  {
   "cell_type": "code",
   "execution_count": 12,
   "id": "5cf879a3",
   "metadata": {
    "execution": {
     "iopub.execute_input": "2023-01-31T05:15:49.791705Z",
     "iopub.status.busy": "2023-01-31T05:15:49.791285Z",
     "iopub.status.idle": "2023-01-31T05:15:49.814563Z",
     "shell.execute_reply": "2023-01-31T05:15:49.813251Z"
    },
    "papermill": {
     "duration": 0.035257,
     "end_time": "2023-01-31T05:15:49.817200",
     "exception": false,
     "start_time": "2023-01-31T05:15:49.781943",
     "status": "completed"
    },
    "tags": []
   },
   "outputs": [
    {
     "data": {
      "text/html": [
       "<div>\n",
       "<style scoped>\n",
       "    .dataframe tbody tr th:only-of-type {\n",
       "        vertical-align: middle;\n",
       "    }\n",
       "\n",
       "    .dataframe tbody tr th {\n",
       "        vertical-align: top;\n",
       "    }\n",
       "\n",
       "    .dataframe thead th {\n",
       "        text-align: right;\n",
       "    }\n",
       "</style>\n",
       "<table border=\"1\" class=\"dataframe\">\n",
       "  <thead>\n",
       "    <tr style=\"text-align: right;\">\n",
       "      <th></th>\n",
       "      <th>PassengerId</th>\n",
       "      <th>Survived</th>\n",
       "      <th>Pclass</th>\n",
       "      <th>Name</th>\n",
       "      <th>Sex</th>\n",
       "      <th>Age</th>\n",
       "      <th>SibSp</th>\n",
       "      <th>Parch</th>\n",
       "      <th>Ticket</th>\n",
       "      <th>Fare</th>\n",
       "      <th>Cabin</th>\n",
       "      <th>Embarked</th>\n",
       "      <th>Familysize</th>\n",
       "      <th>AgeGroup</th>\n",
       "      <th>FareGroup</th>\n",
       "    </tr>\n",
       "  </thead>\n",
       "  <tbody>\n",
       "    <tr>\n",
       "      <th>0</th>\n",
       "      <td>1</td>\n",
       "      <td>0</td>\n",
       "      <td>3</td>\n",
       "      <td>Braund, Mr. Owen Harris</td>\n",
       "      <td>male</td>\n",
       "      <td>22.0</td>\n",
       "      <td>1</td>\n",
       "      <td>0</td>\n",
       "      <td>A/5 21171</td>\n",
       "      <td>7.2500</td>\n",
       "      <td>NaN</td>\n",
       "      <td>S</td>\n",
       "      <td>1</td>\n",
       "      <td>1</td>\n",
       "      <td>0</td>\n",
       "    </tr>\n",
       "    <tr>\n",
       "      <th>1</th>\n",
       "      <td>2</td>\n",
       "      <td>1</td>\n",
       "      <td>1</td>\n",
       "      <td>Cumings, Mrs. John Bradley (Florence Briggs Th...</td>\n",
       "      <td>female</td>\n",
       "      <td>38.0</td>\n",
       "      <td>1</td>\n",
       "      <td>0</td>\n",
       "      <td>PC 17599</td>\n",
       "      <td>71.2833</td>\n",
       "      <td>C85</td>\n",
       "      <td>C</td>\n",
       "      <td>1</td>\n",
       "      <td>3</td>\n",
       "      <td>2</td>\n",
       "    </tr>\n",
       "    <tr>\n",
       "      <th>2</th>\n",
       "      <td>3</td>\n",
       "      <td>1</td>\n",
       "      <td>3</td>\n",
       "      <td>Heikkinen, Miss. Laina</td>\n",
       "      <td>female</td>\n",
       "      <td>26.0</td>\n",
       "      <td>0</td>\n",
       "      <td>0</td>\n",
       "      <td>STON/O2. 3101282</td>\n",
       "      <td>7.9250</td>\n",
       "      <td>NaN</td>\n",
       "      <td>S</td>\n",
       "      <td>0</td>\n",
       "      <td>2</td>\n",
       "      <td>0</td>\n",
       "    </tr>\n",
       "    <tr>\n",
       "      <th>3</th>\n",
       "      <td>4</td>\n",
       "      <td>1</td>\n",
       "      <td>1</td>\n",
       "      <td>Futrelle, Mrs. Jacques Heath (Lily May Peel)</td>\n",
       "      <td>female</td>\n",
       "      <td>35.0</td>\n",
       "      <td>1</td>\n",
       "      <td>0</td>\n",
       "      <td>113803</td>\n",
       "      <td>53.1000</td>\n",
       "      <td>C123</td>\n",
       "      <td>S</td>\n",
       "      <td>1</td>\n",
       "      <td>2</td>\n",
       "      <td>2</td>\n",
       "    </tr>\n",
       "    <tr>\n",
       "      <th>4</th>\n",
       "      <td>5</td>\n",
       "      <td>0</td>\n",
       "      <td>3</td>\n",
       "      <td>Allen, Mr. William Henry</td>\n",
       "      <td>male</td>\n",
       "      <td>35.0</td>\n",
       "      <td>0</td>\n",
       "      <td>0</td>\n",
       "      <td>373450</td>\n",
       "      <td>8.0500</td>\n",
       "      <td>NaN</td>\n",
       "      <td>S</td>\n",
       "      <td>0</td>\n",
       "      <td>2</td>\n",
       "      <td>0</td>\n",
       "    </tr>\n",
       "  </tbody>\n",
       "</table>\n",
       "</div>"
      ],
      "text/plain": [
       "   PassengerId  Survived  Pclass  \\\n",
       "0            1         0       3   \n",
       "1            2         1       1   \n",
       "2            3         1       3   \n",
       "3            4         1       1   \n",
       "4            5         0       3   \n",
       "\n",
       "                                                Name     Sex   Age  SibSp  \\\n",
       "0                            Braund, Mr. Owen Harris    male  22.0      1   \n",
       "1  Cumings, Mrs. John Bradley (Florence Briggs Th...  female  38.0      1   \n",
       "2                             Heikkinen, Miss. Laina  female  26.0      0   \n",
       "3       Futrelle, Mrs. Jacques Heath (Lily May Peel)  female  35.0      1   \n",
       "4                           Allen, Mr. William Henry    male  35.0      0   \n",
       "\n",
       "   Parch            Ticket     Fare Cabin Embarked  Familysize AgeGroup  \\\n",
       "0      0         A/5 21171   7.2500   NaN        S           1        1   \n",
       "1      0          PC 17599  71.2833   C85        C           1        3   \n",
       "2      0  STON/O2. 3101282   7.9250   NaN        S           0        2   \n",
       "3      0            113803  53.1000  C123        S           1        2   \n",
       "4      0            373450   8.0500   NaN        S           0        2   \n",
       "\n",
       "  FareGroup  \n",
       "0         0  \n",
       "1         2  \n",
       "2         0  \n",
       "3         2  \n",
       "4         0  "
      ]
     },
     "execution_count": 12,
     "metadata": {},
     "output_type": "execute_result"
    }
   ],
   "source": [
    "ranges = [0, 17, 30, 100, 300]\n",
    "labels = [0, 1, 2, 3]\n",
    "train[\"FareGroup\"] = pd.cut(train['Fare'],ranges, right = False, labels = labels)\n",
    "train.head()"
   ]
  },
  {
   "cell_type": "code",
   "execution_count": 13,
   "id": "9b2c7ecb",
   "metadata": {
    "execution": {
     "iopub.execute_input": "2023-01-31T05:15:49.836101Z",
     "iopub.status.busy": "2023-01-31T05:15:49.835082Z",
     "iopub.status.idle": "2023-01-31T05:15:49.864960Z",
     "shell.execute_reply": "2023-01-31T05:15:49.863623Z"
    },
    "papermill": {
     "duration": 0.04253,
     "end_time": "2023-01-31T05:15:49.868109",
     "exception": false,
     "start_time": "2023-01-31T05:15:49.825579",
     "status": "completed"
    },
    "tags": []
   },
   "outputs": [
    {
     "data": {
      "text/html": [
       "<div>\n",
       "<style scoped>\n",
       "    .dataframe tbody tr th:only-of-type {\n",
       "        vertical-align: middle;\n",
       "    }\n",
       "\n",
       "    .dataframe tbody tr th {\n",
       "        vertical-align: top;\n",
       "    }\n",
       "\n",
       "    .dataframe thead th {\n",
       "        text-align: right;\n",
       "    }\n",
       "</style>\n",
       "<table border=\"1\" class=\"dataframe\">\n",
       "  <thead>\n",
       "    <tr style=\"text-align: right;\">\n",
       "      <th></th>\n",
       "      <th>PassengerId</th>\n",
       "      <th>Survived</th>\n",
       "      <th>Pclass</th>\n",
       "      <th>Name</th>\n",
       "      <th>Sex</th>\n",
       "      <th>Age</th>\n",
       "      <th>SibSp</th>\n",
       "      <th>Parch</th>\n",
       "      <th>Ticket</th>\n",
       "      <th>Fare</th>\n",
       "      <th>Cabin</th>\n",
       "      <th>Embarked</th>\n",
       "      <th>Familysize</th>\n",
       "      <th>AgeGroup</th>\n",
       "      <th>FareGroup</th>\n",
       "      <th>SexNum</th>\n",
       "    </tr>\n",
       "  </thead>\n",
       "  <tbody>\n",
       "    <tr>\n",
       "      <th>0</th>\n",
       "      <td>1</td>\n",
       "      <td>0</td>\n",
       "      <td>3</td>\n",
       "      <td>Braund, Mr. Owen Harris</td>\n",
       "      <td>male</td>\n",
       "      <td>22.000000</td>\n",
       "      <td>1</td>\n",
       "      <td>0</td>\n",
       "      <td>A/5 21171</td>\n",
       "      <td>7.2500</td>\n",
       "      <td>NaN</td>\n",
       "      <td>S</td>\n",
       "      <td>1</td>\n",
       "      <td>1</td>\n",
       "      <td>0</td>\n",
       "      <td>0</td>\n",
       "    </tr>\n",
       "    <tr>\n",
       "      <th>1</th>\n",
       "      <td>2</td>\n",
       "      <td>1</td>\n",
       "      <td>1</td>\n",
       "      <td>Cumings, Mrs. John Bradley (Florence Briggs Th...</td>\n",
       "      <td>female</td>\n",
       "      <td>38.000000</td>\n",
       "      <td>1</td>\n",
       "      <td>0</td>\n",
       "      <td>PC 17599</td>\n",
       "      <td>71.2833</td>\n",
       "      <td>C85</td>\n",
       "      <td>C</td>\n",
       "      <td>1</td>\n",
       "      <td>3</td>\n",
       "      <td>2</td>\n",
       "      <td>1</td>\n",
       "    </tr>\n",
       "    <tr>\n",
       "      <th>2</th>\n",
       "      <td>3</td>\n",
       "      <td>1</td>\n",
       "      <td>3</td>\n",
       "      <td>Heikkinen, Miss. Laina</td>\n",
       "      <td>female</td>\n",
       "      <td>26.000000</td>\n",
       "      <td>0</td>\n",
       "      <td>0</td>\n",
       "      <td>STON/O2. 3101282</td>\n",
       "      <td>7.9250</td>\n",
       "      <td>NaN</td>\n",
       "      <td>S</td>\n",
       "      <td>0</td>\n",
       "      <td>2</td>\n",
       "      <td>0</td>\n",
       "      <td>1</td>\n",
       "    </tr>\n",
       "    <tr>\n",
       "      <th>3</th>\n",
       "      <td>4</td>\n",
       "      <td>1</td>\n",
       "      <td>1</td>\n",
       "      <td>Futrelle, Mrs. Jacques Heath (Lily May Peel)</td>\n",
       "      <td>female</td>\n",
       "      <td>35.000000</td>\n",
       "      <td>1</td>\n",
       "      <td>0</td>\n",
       "      <td>113803</td>\n",
       "      <td>53.1000</td>\n",
       "      <td>C123</td>\n",
       "      <td>S</td>\n",
       "      <td>1</td>\n",
       "      <td>2</td>\n",
       "      <td>2</td>\n",
       "      <td>1</td>\n",
       "    </tr>\n",
       "    <tr>\n",
       "      <th>4</th>\n",
       "      <td>5</td>\n",
       "      <td>0</td>\n",
       "      <td>3</td>\n",
       "      <td>Allen, Mr. William Henry</td>\n",
       "      <td>male</td>\n",
       "      <td>35.000000</td>\n",
       "      <td>0</td>\n",
       "      <td>0</td>\n",
       "      <td>373450</td>\n",
       "      <td>8.0500</td>\n",
       "      <td>NaN</td>\n",
       "      <td>S</td>\n",
       "      <td>0</td>\n",
       "      <td>2</td>\n",
       "      <td>0</td>\n",
       "      <td>0</td>\n",
       "    </tr>\n",
       "    <tr>\n",
       "      <th>...</th>\n",
       "      <td>...</td>\n",
       "      <td>...</td>\n",
       "      <td>...</td>\n",
       "      <td>...</td>\n",
       "      <td>...</td>\n",
       "      <td>...</td>\n",
       "      <td>...</td>\n",
       "      <td>...</td>\n",
       "      <td>...</td>\n",
       "      <td>...</td>\n",
       "      <td>...</td>\n",
       "      <td>...</td>\n",
       "      <td>...</td>\n",
       "      <td>...</td>\n",
       "      <td>...</td>\n",
       "      <td>...</td>\n",
       "    </tr>\n",
       "    <tr>\n",
       "      <th>886</th>\n",
       "      <td>887</td>\n",
       "      <td>0</td>\n",
       "      <td>2</td>\n",
       "      <td>Montvila, Rev. Juozas</td>\n",
       "      <td>male</td>\n",
       "      <td>27.000000</td>\n",
       "      <td>0</td>\n",
       "      <td>0</td>\n",
       "      <td>211536</td>\n",
       "      <td>13.0000</td>\n",
       "      <td>NaN</td>\n",
       "      <td>S</td>\n",
       "      <td>0</td>\n",
       "      <td>2</td>\n",
       "      <td>0</td>\n",
       "      <td>0</td>\n",
       "    </tr>\n",
       "    <tr>\n",
       "      <th>887</th>\n",
       "      <td>888</td>\n",
       "      <td>1</td>\n",
       "      <td>1</td>\n",
       "      <td>Graham, Miss. Margaret Edith</td>\n",
       "      <td>female</td>\n",
       "      <td>19.000000</td>\n",
       "      <td>0</td>\n",
       "      <td>0</td>\n",
       "      <td>112053</td>\n",
       "      <td>30.0000</td>\n",
       "      <td>B42</td>\n",
       "      <td>S</td>\n",
       "      <td>0</td>\n",
       "      <td>1</td>\n",
       "      <td>2</td>\n",
       "      <td>1</td>\n",
       "    </tr>\n",
       "    <tr>\n",
       "      <th>888</th>\n",
       "      <td>889</td>\n",
       "      <td>0</td>\n",
       "      <td>3</td>\n",
       "      <td>Johnston, Miss. Catherine Helen \"Carrie\"</td>\n",
       "      <td>female</td>\n",
       "      <td>29.699118</td>\n",
       "      <td>1</td>\n",
       "      <td>2</td>\n",
       "      <td>W./C. 6607</td>\n",
       "      <td>23.4500</td>\n",
       "      <td>NaN</td>\n",
       "      <td>S</td>\n",
       "      <td>3</td>\n",
       "      <td>2</td>\n",
       "      <td>1</td>\n",
       "      <td>1</td>\n",
       "    </tr>\n",
       "    <tr>\n",
       "      <th>889</th>\n",
       "      <td>890</td>\n",
       "      <td>1</td>\n",
       "      <td>1</td>\n",
       "      <td>Behr, Mr. Karl Howell</td>\n",
       "      <td>male</td>\n",
       "      <td>26.000000</td>\n",
       "      <td>0</td>\n",
       "      <td>0</td>\n",
       "      <td>111369</td>\n",
       "      <td>30.0000</td>\n",
       "      <td>C148</td>\n",
       "      <td>C</td>\n",
       "      <td>0</td>\n",
       "      <td>2</td>\n",
       "      <td>2</td>\n",
       "      <td>0</td>\n",
       "    </tr>\n",
       "    <tr>\n",
       "      <th>890</th>\n",
       "      <td>891</td>\n",
       "      <td>0</td>\n",
       "      <td>3</td>\n",
       "      <td>Dooley, Mr. Patrick</td>\n",
       "      <td>male</td>\n",
       "      <td>32.000000</td>\n",
       "      <td>0</td>\n",
       "      <td>0</td>\n",
       "      <td>370376</td>\n",
       "      <td>7.7500</td>\n",
       "      <td>NaN</td>\n",
       "      <td>Q</td>\n",
       "      <td>0</td>\n",
       "      <td>2</td>\n",
       "      <td>0</td>\n",
       "      <td>0</td>\n",
       "    </tr>\n",
       "  </tbody>\n",
       "</table>\n",
       "<p>891 rows × 16 columns</p>\n",
       "</div>"
      ],
      "text/plain": [
       "     PassengerId  Survived  Pclass  \\\n",
       "0              1         0       3   \n",
       "1              2         1       1   \n",
       "2              3         1       3   \n",
       "3              4         1       1   \n",
       "4              5         0       3   \n",
       "..           ...       ...     ...   \n",
       "886          887         0       2   \n",
       "887          888         1       1   \n",
       "888          889         0       3   \n",
       "889          890         1       1   \n",
       "890          891         0       3   \n",
       "\n",
       "                                                  Name     Sex        Age  \\\n",
       "0                              Braund, Mr. Owen Harris    male  22.000000   \n",
       "1    Cumings, Mrs. John Bradley (Florence Briggs Th...  female  38.000000   \n",
       "2                               Heikkinen, Miss. Laina  female  26.000000   \n",
       "3         Futrelle, Mrs. Jacques Heath (Lily May Peel)  female  35.000000   \n",
       "4                             Allen, Mr. William Henry    male  35.000000   \n",
       "..                                                 ...     ...        ...   \n",
       "886                              Montvila, Rev. Juozas    male  27.000000   \n",
       "887                       Graham, Miss. Margaret Edith  female  19.000000   \n",
       "888           Johnston, Miss. Catherine Helen \"Carrie\"  female  29.699118   \n",
       "889                              Behr, Mr. Karl Howell    male  26.000000   \n",
       "890                                Dooley, Mr. Patrick    male  32.000000   \n",
       "\n",
       "     SibSp  Parch            Ticket     Fare Cabin Embarked  Familysize  \\\n",
       "0        1      0         A/5 21171   7.2500   NaN        S           1   \n",
       "1        1      0          PC 17599  71.2833   C85        C           1   \n",
       "2        0      0  STON/O2. 3101282   7.9250   NaN        S           0   \n",
       "3        1      0            113803  53.1000  C123        S           1   \n",
       "4        0      0            373450   8.0500   NaN        S           0   \n",
       "..     ...    ...               ...      ...   ...      ...         ...   \n",
       "886      0      0            211536  13.0000   NaN        S           0   \n",
       "887      0      0            112053  30.0000   B42        S           0   \n",
       "888      1      2        W./C. 6607  23.4500   NaN        S           3   \n",
       "889      0      0            111369  30.0000  C148        C           0   \n",
       "890      0      0            370376   7.7500   NaN        Q           0   \n",
       "\n",
       "    AgeGroup FareGroup  SexNum  \n",
       "0          1         0       0  \n",
       "1          3         2       1  \n",
       "2          2         0       1  \n",
       "3          2         2       1  \n",
       "4          2         0       0  \n",
       "..       ...       ...     ...  \n",
       "886        2         0       0  \n",
       "887        1         2       1  \n",
       "888        2         1       1  \n",
       "889        2         2       0  \n",
       "890        2         0       0  \n",
       "\n",
       "[891 rows x 16 columns]"
      ]
     },
     "execution_count": 13,
     "metadata": {},
     "output_type": "execute_result"
    }
   ],
   "source": [
    "train['SexNum'] = train['Sex'].apply(lambda x:1 if (x =='female') else 0)\n",
    "train"
   ]
  },
  {
   "cell_type": "code",
   "execution_count": 14,
   "id": "ea41eb27",
   "metadata": {
    "execution": {
     "iopub.execute_input": "2023-01-31T05:15:49.888167Z",
     "iopub.status.busy": "2023-01-31T05:15:49.887778Z",
     "iopub.status.idle": "2023-01-31T05:15:49.917335Z",
     "shell.execute_reply": "2023-01-31T05:15:49.916493Z"
    },
    "papermill": {
     "duration": 0.042309,
     "end_time": "2023-01-31T05:15:49.919349",
     "exception": false,
     "start_time": "2023-01-31T05:15:49.877040",
     "status": "completed"
    },
    "tags": []
   },
   "outputs": [
    {
     "data": {
      "text/html": [
       "<div>\n",
       "<style scoped>\n",
       "    .dataframe tbody tr th:only-of-type {\n",
       "        vertical-align: middle;\n",
       "    }\n",
       "\n",
       "    .dataframe tbody tr th {\n",
       "        vertical-align: top;\n",
       "    }\n",
       "\n",
       "    .dataframe thead th {\n",
       "        text-align: right;\n",
       "    }\n",
       "</style>\n",
       "<table border=\"1\" class=\"dataframe\">\n",
       "  <thead>\n",
       "    <tr style=\"text-align: right;\">\n",
       "      <th></th>\n",
       "      <th>PassengerId</th>\n",
       "      <th>Survived</th>\n",
       "      <th>Pclass</th>\n",
       "      <th>Name</th>\n",
       "      <th>Sex</th>\n",
       "      <th>Age</th>\n",
       "      <th>SibSp</th>\n",
       "      <th>Parch</th>\n",
       "      <th>Ticket</th>\n",
       "      <th>Fare</th>\n",
       "      <th>Cabin</th>\n",
       "      <th>Embarked</th>\n",
       "      <th>Familysize</th>\n",
       "      <th>AgeGroup</th>\n",
       "      <th>FareGroup</th>\n",
       "      <th>SexNum</th>\n",
       "      <th>EmbarkedNum</th>\n",
       "    </tr>\n",
       "  </thead>\n",
       "  <tbody>\n",
       "    <tr>\n",
       "      <th>0</th>\n",
       "      <td>1</td>\n",
       "      <td>0</td>\n",
       "      <td>3</td>\n",
       "      <td>Braund, Mr. Owen Harris</td>\n",
       "      <td>male</td>\n",
       "      <td>22.000000</td>\n",
       "      <td>1</td>\n",
       "      <td>0</td>\n",
       "      <td>A/5 21171</td>\n",
       "      <td>7.2500</td>\n",
       "      <td>NaN</td>\n",
       "      <td>S</td>\n",
       "      <td>1</td>\n",
       "      <td>1</td>\n",
       "      <td>0</td>\n",
       "      <td>0</td>\n",
       "      <td>0</td>\n",
       "    </tr>\n",
       "    <tr>\n",
       "      <th>1</th>\n",
       "      <td>2</td>\n",
       "      <td>1</td>\n",
       "      <td>1</td>\n",
       "      <td>Cumings, Mrs. John Bradley (Florence Briggs Th...</td>\n",
       "      <td>female</td>\n",
       "      <td>38.000000</td>\n",
       "      <td>1</td>\n",
       "      <td>0</td>\n",
       "      <td>PC 17599</td>\n",
       "      <td>71.2833</td>\n",
       "      <td>C85</td>\n",
       "      <td>C</td>\n",
       "      <td>1</td>\n",
       "      <td>3</td>\n",
       "      <td>2</td>\n",
       "      <td>1</td>\n",
       "      <td>1</td>\n",
       "    </tr>\n",
       "    <tr>\n",
       "      <th>2</th>\n",
       "      <td>3</td>\n",
       "      <td>1</td>\n",
       "      <td>3</td>\n",
       "      <td>Heikkinen, Miss. Laina</td>\n",
       "      <td>female</td>\n",
       "      <td>26.000000</td>\n",
       "      <td>0</td>\n",
       "      <td>0</td>\n",
       "      <td>STON/O2. 3101282</td>\n",
       "      <td>7.9250</td>\n",
       "      <td>NaN</td>\n",
       "      <td>S</td>\n",
       "      <td>0</td>\n",
       "      <td>2</td>\n",
       "      <td>0</td>\n",
       "      <td>1</td>\n",
       "      <td>0</td>\n",
       "    </tr>\n",
       "    <tr>\n",
       "      <th>3</th>\n",
       "      <td>4</td>\n",
       "      <td>1</td>\n",
       "      <td>1</td>\n",
       "      <td>Futrelle, Mrs. Jacques Heath (Lily May Peel)</td>\n",
       "      <td>female</td>\n",
       "      <td>35.000000</td>\n",
       "      <td>1</td>\n",
       "      <td>0</td>\n",
       "      <td>113803</td>\n",
       "      <td>53.1000</td>\n",
       "      <td>C123</td>\n",
       "      <td>S</td>\n",
       "      <td>1</td>\n",
       "      <td>2</td>\n",
       "      <td>2</td>\n",
       "      <td>1</td>\n",
       "      <td>0</td>\n",
       "    </tr>\n",
       "    <tr>\n",
       "      <th>4</th>\n",
       "      <td>5</td>\n",
       "      <td>0</td>\n",
       "      <td>3</td>\n",
       "      <td>Allen, Mr. William Henry</td>\n",
       "      <td>male</td>\n",
       "      <td>35.000000</td>\n",
       "      <td>0</td>\n",
       "      <td>0</td>\n",
       "      <td>373450</td>\n",
       "      <td>8.0500</td>\n",
       "      <td>NaN</td>\n",
       "      <td>S</td>\n",
       "      <td>0</td>\n",
       "      <td>2</td>\n",
       "      <td>0</td>\n",
       "      <td>0</td>\n",
       "      <td>0</td>\n",
       "    </tr>\n",
       "    <tr>\n",
       "      <th>...</th>\n",
       "      <td>...</td>\n",
       "      <td>...</td>\n",
       "      <td>...</td>\n",
       "      <td>...</td>\n",
       "      <td>...</td>\n",
       "      <td>...</td>\n",
       "      <td>...</td>\n",
       "      <td>...</td>\n",
       "      <td>...</td>\n",
       "      <td>...</td>\n",
       "      <td>...</td>\n",
       "      <td>...</td>\n",
       "      <td>...</td>\n",
       "      <td>...</td>\n",
       "      <td>...</td>\n",
       "      <td>...</td>\n",
       "      <td>...</td>\n",
       "    </tr>\n",
       "    <tr>\n",
       "      <th>886</th>\n",
       "      <td>887</td>\n",
       "      <td>0</td>\n",
       "      <td>2</td>\n",
       "      <td>Montvila, Rev. Juozas</td>\n",
       "      <td>male</td>\n",
       "      <td>27.000000</td>\n",
       "      <td>0</td>\n",
       "      <td>0</td>\n",
       "      <td>211536</td>\n",
       "      <td>13.0000</td>\n",
       "      <td>NaN</td>\n",
       "      <td>S</td>\n",
       "      <td>0</td>\n",
       "      <td>2</td>\n",
       "      <td>0</td>\n",
       "      <td>0</td>\n",
       "      <td>0</td>\n",
       "    </tr>\n",
       "    <tr>\n",
       "      <th>887</th>\n",
       "      <td>888</td>\n",
       "      <td>1</td>\n",
       "      <td>1</td>\n",
       "      <td>Graham, Miss. Margaret Edith</td>\n",
       "      <td>female</td>\n",
       "      <td>19.000000</td>\n",
       "      <td>0</td>\n",
       "      <td>0</td>\n",
       "      <td>112053</td>\n",
       "      <td>30.0000</td>\n",
       "      <td>B42</td>\n",
       "      <td>S</td>\n",
       "      <td>0</td>\n",
       "      <td>1</td>\n",
       "      <td>2</td>\n",
       "      <td>1</td>\n",
       "      <td>0</td>\n",
       "    </tr>\n",
       "    <tr>\n",
       "      <th>888</th>\n",
       "      <td>889</td>\n",
       "      <td>0</td>\n",
       "      <td>3</td>\n",
       "      <td>Johnston, Miss. Catherine Helen \"Carrie\"</td>\n",
       "      <td>female</td>\n",
       "      <td>29.699118</td>\n",
       "      <td>1</td>\n",
       "      <td>2</td>\n",
       "      <td>W./C. 6607</td>\n",
       "      <td>23.4500</td>\n",
       "      <td>NaN</td>\n",
       "      <td>S</td>\n",
       "      <td>3</td>\n",
       "      <td>2</td>\n",
       "      <td>1</td>\n",
       "      <td>1</td>\n",
       "      <td>0</td>\n",
       "    </tr>\n",
       "    <tr>\n",
       "      <th>889</th>\n",
       "      <td>890</td>\n",
       "      <td>1</td>\n",
       "      <td>1</td>\n",
       "      <td>Behr, Mr. Karl Howell</td>\n",
       "      <td>male</td>\n",
       "      <td>26.000000</td>\n",
       "      <td>0</td>\n",
       "      <td>0</td>\n",
       "      <td>111369</td>\n",
       "      <td>30.0000</td>\n",
       "      <td>C148</td>\n",
       "      <td>C</td>\n",
       "      <td>0</td>\n",
       "      <td>2</td>\n",
       "      <td>2</td>\n",
       "      <td>0</td>\n",
       "      <td>1</td>\n",
       "    </tr>\n",
       "    <tr>\n",
       "      <th>890</th>\n",
       "      <td>891</td>\n",
       "      <td>0</td>\n",
       "      <td>3</td>\n",
       "      <td>Dooley, Mr. Patrick</td>\n",
       "      <td>male</td>\n",
       "      <td>32.000000</td>\n",
       "      <td>0</td>\n",
       "      <td>0</td>\n",
       "      <td>370376</td>\n",
       "      <td>7.7500</td>\n",
       "      <td>NaN</td>\n",
       "      <td>Q</td>\n",
       "      <td>0</td>\n",
       "      <td>2</td>\n",
       "      <td>0</td>\n",
       "      <td>0</td>\n",
       "      <td>2</td>\n",
       "    </tr>\n",
       "  </tbody>\n",
       "</table>\n",
       "<p>891 rows × 17 columns</p>\n",
       "</div>"
      ],
      "text/plain": [
       "     PassengerId  Survived  Pclass  \\\n",
       "0              1         0       3   \n",
       "1              2         1       1   \n",
       "2              3         1       3   \n",
       "3              4         1       1   \n",
       "4              5         0       3   \n",
       "..           ...       ...     ...   \n",
       "886          887         0       2   \n",
       "887          888         1       1   \n",
       "888          889         0       3   \n",
       "889          890         1       1   \n",
       "890          891         0       3   \n",
       "\n",
       "                                                  Name     Sex        Age  \\\n",
       "0                              Braund, Mr. Owen Harris    male  22.000000   \n",
       "1    Cumings, Mrs. John Bradley (Florence Briggs Th...  female  38.000000   \n",
       "2                               Heikkinen, Miss. Laina  female  26.000000   \n",
       "3         Futrelle, Mrs. Jacques Heath (Lily May Peel)  female  35.000000   \n",
       "4                             Allen, Mr. William Henry    male  35.000000   \n",
       "..                                                 ...     ...        ...   \n",
       "886                              Montvila, Rev. Juozas    male  27.000000   \n",
       "887                       Graham, Miss. Margaret Edith  female  19.000000   \n",
       "888           Johnston, Miss. Catherine Helen \"Carrie\"  female  29.699118   \n",
       "889                              Behr, Mr. Karl Howell    male  26.000000   \n",
       "890                                Dooley, Mr. Patrick    male  32.000000   \n",
       "\n",
       "     SibSp  Parch            Ticket     Fare Cabin Embarked  Familysize  \\\n",
       "0        1      0         A/5 21171   7.2500   NaN        S           1   \n",
       "1        1      0          PC 17599  71.2833   C85        C           1   \n",
       "2        0      0  STON/O2. 3101282   7.9250   NaN        S           0   \n",
       "3        1      0            113803  53.1000  C123        S           1   \n",
       "4        0      0            373450   8.0500   NaN        S           0   \n",
       "..     ...    ...               ...      ...   ...      ...         ...   \n",
       "886      0      0            211536  13.0000   NaN        S           0   \n",
       "887      0      0            112053  30.0000   B42        S           0   \n",
       "888      1      2        W./C. 6607  23.4500   NaN        S           3   \n",
       "889      0      0            111369  30.0000  C148        C           0   \n",
       "890      0      0            370376   7.7500   NaN        Q           0   \n",
       "\n",
       "    AgeGroup FareGroup  SexNum  EmbarkedNum  \n",
       "0          1         0       0            0  \n",
       "1          3         2       1            1  \n",
       "2          2         0       1            0  \n",
       "3          2         2       1            0  \n",
       "4          2         0       0            0  \n",
       "..       ...       ...     ...          ...  \n",
       "886        2         0       0            0  \n",
       "887        1         2       1            0  \n",
       "888        2         1       1            0  \n",
       "889        2         2       0            1  \n",
       "890        2         0       0            2  \n",
       "\n",
       "[891 rows x 17 columns]"
      ]
     },
     "execution_count": 14,
     "metadata": {},
     "output_type": "execute_result"
    }
   ],
   "source": [
    "train['EmbarkedNum'] = train['Embarked'].apply(lambda x:0 if(x == 'S') else (1 if(x == 'C') else 2))\n",
    "train"
   ]
  },
  {
   "cell_type": "code",
   "execution_count": 15,
   "id": "cc9dfd16",
   "metadata": {
    "execution": {
     "iopub.execute_input": "2023-01-31T05:15:49.940482Z",
     "iopub.status.busy": "2023-01-31T05:15:49.939819Z",
     "iopub.status.idle": "2023-01-31T05:15:49.945652Z",
     "shell.execute_reply": "2023-01-31T05:15:49.944641Z"
    },
    "papermill": {
     "duration": 0.019421,
     "end_time": "2023-01-31T05:15:49.947995",
     "exception": false,
     "start_time": "2023-01-31T05:15:49.928574",
     "status": "completed"
    },
    "tags": []
   },
   "outputs": [],
   "source": [
    "target = train['Survived']\n",
    "data = train[['Pclass', 'SexNum', 'AgeGroup', 'FareGroup', 'EmbarkedNum', 'Familysize']]"
   ]
  },
  {
   "cell_type": "code",
   "execution_count": 16,
   "id": "d4e0a2d0",
   "metadata": {
    "execution": {
     "iopub.execute_input": "2023-01-31T05:15:49.968511Z",
     "iopub.status.busy": "2023-01-31T05:15:49.968039Z",
     "iopub.status.idle": "2023-01-31T05:15:50.941365Z",
     "shell.execute_reply": "2023-01-31T05:15:50.940155Z"
    },
    "papermill": {
     "duration": 0.987079,
     "end_time": "2023-01-31T05:15:50.944601",
     "exception": false,
     "start_time": "2023-01-31T05:15:49.957522",
     "status": "completed"
    },
    "tags": []
   },
   "outputs": [
    {
     "name": "stdout",
     "output_type": "stream",
     "text": [
      "KNN  : 76.68\n",
      "DecisionTree : 79.36\n",
      "RandomForest : 79.36\n",
      "SVM  : 82.72\n"
     ]
    }
   ],
   "source": [
    "from sklearn.model_selection import train_test_split\n",
    "\n",
    "train_input, test_input, train_target, test_target = train_test_split(\n",
    "data, target, test_size = 0.2, random_state = 42)\n",
    "\n",
    "from sklearn.neighbors import KNeighborsClassifier\n",
    "from sklearn.tree import DecisionTreeClassifier\n",
    "from sklearn.ensemble import RandomForestClassifier\n",
    "from sklearn import svm\n",
    "import numpy as np\n",
    "\n",
    "from sklearn.model_selection import KFold\n",
    "from sklearn.model_selection import cross_val_score\n",
    "\n",
    "k_fold = KFold(n_splits = 10, shuffle = True, random_state = 42)\n",
    "\n",
    "knn = KNeighborsClassifier(n_neighbors = 5)\n",
    "score_knn = cross_val_score(knn, train_input, train_target, cv=k_fold, n_jobs = 1, scoring = 'accuracy')\n",
    "\n",
    "dt = DecisionTreeClassifier()\n",
    "score_dt = cross_val_score(dt, train_input,train_target,   cv= k_fold, n_jobs = 1, scoring = 'accuracy')\n",
    "\n",
    "rf = RandomForestClassifier(n_estimators = 10)\n",
    "score_rf = cross_val_score(rf, train_input, train_target, cv=k_fold, n_jobs = 1, scoring = 'accuracy')\n",
    "\n",
    "sv = svm.SVC(gamma = 'auto')\n",
    "score_sv = cross_val_score(sv, train_input, train_target, cv=k_fold, n_jobs = 1, scoring = 'accuracy')\n",
    "\n",
    "print(\"KNN  :\", round(np.mean(score_knn)*100,2))\n",
    "print(\"DecisionTree :\", round(np.mean(score_dt)*100,2))\n",
    "print(\"RandomForest :\", round(np.mean(score_dt)*100,2))\n",
    "print(\"SVM  :\",round(np.mean(score_sv)*100,2))"
   ]
  },
  {
   "cell_type": "code",
   "execution_count": 17,
   "id": "d7692312",
   "metadata": {
    "execution": {
     "iopub.execute_input": "2023-01-31T05:15:50.965552Z",
     "iopub.status.busy": "2023-01-31T05:15:50.965126Z",
     "iopub.status.idle": "2023-01-31T05:15:51.002622Z",
     "shell.execute_reply": "2023-01-31T05:15:51.001297Z"
    },
    "papermill": {
     "duration": 0.050738,
     "end_time": "2023-01-31T05:15:51.005384",
     "exception": false,
     "start_time": "2023-01-31T05:15:50.954646",
     "status": "completed"
    },
    "tags": []
   },
   "outputs": [
    {
     "data": {
      "text/plain": [
       "SVC(gamma='auto')"
      ]
     },
     "execution_count": 17,
     "metadata": {},
     "output_type": "execute_result"
    }
   ],
   "source": [
    "sv.fit(data, target)"
   ]
  },
  {
   "cell_type": "code",
   "execution_count": 18,
   "id": "973b54cf",
   "metadata": {
    "execution": {
     "iopub.execute_input": "2023-01-31T05:15:51.026436Z",
     "iopub.status.busy": "2023-01-31T05:15:51.025971Z",
     "iopub.status.idle": "2023-01-31T05:15:51.050162Z",
     "shell.execute_reply": "2023-01-31T05:15:51.048443Z"
    },
    "papermill": {
     "duration": 0.038318,
     "end_time": "2023-01-31T05:15:51.053346",
     "exception": false,
     "start_time": "2023-01-31T05:15:51.015028",
     "status": "completed"
    },
    "tags": []
   },
   "outputs": [
    {
     "name": "stdout",
     "output_type": "stream",
     "text": [
      "     Pclass  SexNum AgeGroup FareGroup  EmbarkedNum  Familysize\n",
      "0         3       0        2         0            2           0\n",
      "1         3       1        3         0            0           1\n",
      "2         2       0        4         0            2           0\n",
      "3         3       0        2         0            0           0\n",
      "4         3       1        1         0            0           2\n",
      "..      ...     ...      ...       ...          ...         ...\n",
      "413       3       0        2         0            0           0\n",
      "414       1       1        3         3            1           0\n",
      "415       3       0        3         0            0           0\n",
      "416       3       0        2         0            0           0\n",
      "417       3       0        2         1            1           2\n",
      "\n",
      "[418 rows x 6 columns]\n"
     ]
    }
   ],
   "source": [
    "test['Familysize'] = test['SibSp'] + test['Parch']\n",
    "test['Age'].fillna(test['Age'].mean(axis = 0), inplace = True)\n",
    "\n",
    "ranges = [0, 16, 26, 36, 62, 100]\n",
    "labels = [0, 1, 2, 3, 4]\n",
    "test[\"AgeGroup\"] = pd.cut(test['Age'], ranges, right = False, labels = labels)\n",
    "\n",
    "ranges = [0, 17, 30, 100,1000]\n",
    "labels = [0, 1, 2, 3]\n",
    "test[\"FareGroup\"] = pd.cut(test['Fare'],ranges, right = False, labels = labels)\n",
    "\n",
    "test['SexNum'] = test['Sex'].apply(lambda x:1 if (x == 'female') else 0)\n",
    "\n",
    "test['EmbarkedNum'] = test['Embarked'].apply(lambda x:0 if (x == 'S') else(1 \n",
    "if (x == 'C') else 2))\n",
    "\n",
    "test_data = test[['Pclass', 'SexNum', 'AgeGroup', 'FareGroup', 'EmbarkedNum', 'Familysize']]\n",
    "print(test_data)"
   ]
  },
  {
   "cell_type": "code",
   "execution_count": 19,
   "id": "fd6c4747",
   "metadata": {
    "execution": {
     "iopub.execute_input": "2023-01-31T05:15:51.075439Z",
     "iopub.status.busy": "2023-01-31T05:15:51.075036Z",
     "iopub.status.idle": "2023-01-31T05:15:51.092321Z",
     "shell.execute_reply": "2023-01-31T05:15:51.090857Z"
    },
    "papermill": {
     "duration": 0.031264,
     "end_time": "2023-01-31T05:15:51.095154",
     "exception": false,
     "start_time": "2023-01-31T05:15:51.063890",
     "status": "completed"
    },
    "tags": []
   },
   "outputs": [],
   "source": [
    "pred = sv.predict(test_data)"
   ]
  },
  {
   "cell_type": "code",
   "execution_count": 20,
   "id": "451ffea3",
   "metadata": {
    "execution": {
     "iopub.execute_input": "2023-01-31T05:15:51.116898Z",
     "iopub.status.busy": "2023-01-31T05:15:51.116440Z",
     "iopub.status.idle": "2023-01-31T05:15:51.126322Z",
     "shell.execute_reply": "2023-01-31T05:15:51.125497Z"
    },
    "papermill": {
     "duration": 0.023178,
     "end_time": "2023-01-31T05:15:51.128629",
     "exception": false,
     "start_time": "2023-01-31T05:15:51.105451",
     "status": "completed"
    },
    "tags": []
   },
   "outputs": [],
   "source": [
    "submission = pd.DataFrame({\"PassengerId\":test['PassengerId'],\n",
    "                          \"Survived\": pred})\n",
    "submission.to_csv('submission.csv', index = False)"
   ]
  },
  {
   "cell_type": "code",
   "execution_count": 21,
   "id": "fdd76e09",
   "metadata": {
    "execution": {
     "iopub.execute_input": "2023-01-31T05:15:51.150386Z",
     "iopub.status.busy": "2023-01-31T05:15:51.149782Z",
     "iopub.status.idle": "2023-01-31T05:15:51.158144Z",
     "shell.execute_reply": "2023-01-31T05:15:51.156923Z"
    },
    "papermill": {
     "duration": 0.02217,
     "end_time": "2023-01-31T05:15:51.160693",
     "exception": false,
     "start_time": "2023-01-31T05:15:51.138523",
     "status": "completed"
    },
    "tags": []
   },
   "outputs": [
    {
     "name": "stdout",
     "output_type": "stream",
     "text": [
      "   PassengerId  Survived\n",
      "0          892         0\n",
      "1          893         0\n",
      "2          894         0\n",
      "3          895         0\n",
      "4          896         1\n"
     ]
    }
   ],
   "source": [
    "submissionfile = pd.read_csv('/kaggle/working/submission.csv')\n",
    "print(submission.head())"
   ]
  },
  {
   "cell_type": "code",
   "execution_count": null,
   "id": "1b531ebb",
   "metadata": {
    "papermill": {
     "duration": 0.0097,
     "end_time": "2023-01-31T05:15:51.180519",
     "exception": false,
     "start_time": "2023-01-31T05:15:51.170819",
     "status": "completed"
    },
    "tags": []
   },
   "outputs": [],
   "source": []
  }
 ],
 "metadata": {
  "kernelspec": {
   "display_name": "Python 3",
   "language": "python",
   "name": "python3"
  },
  "language_info": {
   "codemirror_mode": {
    "name": "ipython",
    "version": 3
   },
   "file_extension": ".py",
   "mimetype": "text/x-python",
   "name": "python",
   "nbconvert_exporter": "python",
   "pygments_lexer": "ipython3",
   "version": "3.7.12"
  },
  "papermill": {
   "default_parameters": {},
   "duration": 13.77977,
   "end_time": "2023-01-31T05:15:51.912098",
   "environment_variables": {},
   "exception": null,
   "input_path": "__notebook__.ipynb",
   "output_path": "__notebook__.ipynb",
   "parameters": {},
   "start_time": "2023-01-31T05:15:38.132328",
   "version": "2.3.4"
  }
 },
 "nbformat": 4,
 "nbformat_minor": 5
}
